{
 "cells": [
  {
   "cell_type": "code",
   "execution_count": 1,
   "id": "south-notion",
   "metadata": {},
   "outputs": [],
   "source": [
    "import numpy as np\n",
    "import pandas as pd\n",
    "import matplotlib.pyplot as plt\n",
    "\n",
    "from customRead import bigFile, smallFile, oneBodyFile"
   ]
  },
  {
   "cell_type": "code",
   "execution_count": 2,
   "id": "economic-honolulu",
   "metadata": {},
   "outputs": [],
   "source": [
    "filename = \"../Output/CorrEnergy_Big.txt\"\n",
    "    \n",
    "mean, std, accepted, t = bigFile(filename)"
   ]
  },
  {
   "cell_type": "code",
   "execution_count": 3,
   "id": "collectible-reward",
   "metadata": {},
   "outputs": [
    {
     "data": {
      "text/plain": [
       "177.1160266089942"
      ]
     },
     "execution_count": 3,
     "metadata": {},
     "output_type": "execute_result"
    }
   ],
   "source": [
    "mean"
   ]
  },
  {
   "cell_type": "code",
   "execution_count": 4,
   "id": "homeless-wagner",
   "metadata": {},
   "outputs": [
    {
     "data": {
      "text/plain": [
       "57.13655895272831"
      ]
     },
     "execution_count": 4,
     "metadata": {},
     "output_type": "execute_result"
    }
   ],
   "source": [
    "std"
   ]
  },
  {
   "cell_type": "code",
   "execution_count": null,
   "id": "charged-tumor",
   "metadata": {},
   "outputs": [],
   "source": []
  }
 ],
 "metadata": {
  "kernelspec": {
   "display_name": "Python 3",
   "language": "python",
   "name": "python3"
  },
  "language_info": {
   "codemirror_mode": {
    "name": "ipython",
    "version": 3
   },
   "file_extension": ".py",
   "mimetype": "text/x-python",
   "name": "python",
   "nbconvert_exporter": "python",
   "pygments_lexer": "ipython3",
   "version": "3.6.13"
  }
 },
 "nbformat": 4,
 "nbformat_minor": 5
}
