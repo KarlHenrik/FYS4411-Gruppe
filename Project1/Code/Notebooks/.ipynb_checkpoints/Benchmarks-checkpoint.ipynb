{
 "cells": [
  {
   "cell_type": "code",
   "execution_count": null,
   "id": "desperate-tactics",
   "metadata": {},
   "outputs": [],
   "source": [
    "import numpy as np\n",
    "import pandas as pd\n",
    "import matplotlib.pyplot as plt\n",
    "\n",
    "from customRead import bigFile, smallFile, oneBodyFile"
   ]
  },
  {
   "cell_type": "markdown",
   "id": "operational-cycling",
   "metadata": {},
   "source": [
    "## 3D Energy calculations"
   ]
  },
  {
   "cell_type": "code",
   "execution_count": null,
   "id": "successful-injection",
   "metadata": {},
   "outputs": [],
   "source": [
    "for N in [1, 10, 100, 500]:\n",
    "    filename = f\"../Output/Benchmarks/Bench{N}\"\n",
    "    \n",
    "    alpha, E, E2, VAR, accepted, t1 = smallFile(filename + \"_GD.txt\")\n",
    "    mean, std, accepted, t2 = bigFile(filename + \"_Big.txt\")\n",
    "    r, density = oneBodyFile(filename + \"_oB.txt\")\n",
    "\n",
    "    print(f\"{N}, {mean}, {std}, {accepted}, \")\n",
    "    # Do stuff"
   ]
  },
  {
   "cell_type": "markdown",
   "id": "complicated-investment",
   "metadata": {},
   "source": [
    "## 1D, 2D, 3D Comparison"
   ]
  },
  {
   "cell_type": "code",
   "execution_count": null,
   "id": "aerial-circular",
   "metadata": {},
   "outputs": [],
   "source": [
    "for D in [1, 2, 3]:\n",
    "    filename = f\"../Output/Benchmarks/BenchDim{D}\"\n",
    "    \n",
    "    alpha, E, E2, VAR, accepted, t1 = smallFile(filename + \"_GD.txt\")\n",
    "    mean, std, accepted, t2 = bigFile(filename + \"_Big.txt\")\n",
    "    r, density = oneBodyFile(filename + \"_oB.txt\")\n",
    "    \n",
    "    # Do stuff"
   ]
  },
  {
   "cell_type": "code",
   "execution_count": null,
   "id": "coral-adoption",
   "metadata": {},
   "outputs": [],
   "source": []
  }
 ],
 "metadata": {
  "kernelspec": {
   "display_name": "Python 3",
   "language": "python",
   "name": "python3"
  },
  "language_info": {
   "codemirror_mode": {
    "name": "ipython",
    "version": 3
   },
   "file_extension": ".py",
   "mimetype": "text/x-python",
   "name": "python",
   "nbconvert_exporter": "python",
   "pygments_lexer": "ipython3",
   "version": "3.6.13"
  }
 },
 "nbformat": 4,
 "nbformat_minor": 5
}
