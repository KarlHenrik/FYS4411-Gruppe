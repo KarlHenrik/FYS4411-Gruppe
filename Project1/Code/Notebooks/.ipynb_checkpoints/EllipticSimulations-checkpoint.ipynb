{
 "cells": [
  {
   "cell_type": "code",
   "execution_count": 3,
   "id": "answering-grace",
   "metadata": {},
   "outputs": [],
   "source": [
    "import numpy as np\n",
    "import pandas as pd\n",
    "import matplotlib.pyplot as plt\n",
    "\n",
    "from customRead import bigFile, smallFile, oneBodyFile"
   ]
  },
  {
   "cell_type": "markdown",
   "id": "public-affair",
   "metadata": {},
   "source": [
    "## Correlated Energy calculations"
   ]
  },
  {
   "cell_type": "code",
   "execution_count": 11,
   "id": "bronze-services",
   "metadata": {},
   "outputs": [
    {
     "name": "stdout",
     "output_type": "stream",
     "text": [
      "For N = 10, GT time = 813.1062360000001\n",
      "For N = 50, GT time = 6125.073254000001\n",
      "For N = 100, GT time = 2550.490771\n"
     ]
    }
   ],
   "source": [
    "for N in [10, 50]:\n",
    "    alpha_sum = 0\n",
    "    t1_sum = 0\n",
    "    for i in [0,1,2,3,4]:\n",
    "        filename = f\"../Output/CorrEll/CorrEll{N}_{i}_GD.txt\"\n",
    "        alpha, E, E2, VAR, accepted, t1 = smallFile(filename)\n",
    "        t1_sum += t1\n",
    "\n",
    "    print(f\"For N = {N}, GT time = {t1_sum}\")\n",
    "    \n",
    "filename = f\"../Output/CorrEll/Corr100_GD.txt\"\n",
    "alpha, E, E2, VAR, accepted, t1 = smallFile(filename)\n",
    "print(f\"For N = 100, GT time = {t1}\")"
   ]
  },
  {
   "cell_type": "code",
   "execution_count": 18,
   "id": "affected-listening",
   "metadata": {},
   "outputs": [
    {
     "name": "stdout",
     "output_type": "stream",
     "text": [
      "For N = 10, E = 1.9226889291322233, stdErr = 0.0012041240326684988, accept% = 0.963882, t = 64.071472\n",
      "For N = 50, E = 2.0079611626319895, stdErr = 0.0011701614005632647, accept% = 0.9643229999999999, t = 525.959069\n",
      "For N = 100, E = 2.0889916229188445, stdErr = 0.00108819746471783, accept% = 0.9592280000000001, t = 1705.399498\n"
     ]
    }
   ],
   "source": [
    "for N in [10, 50]:\n",
    "    filename = f\"../Output/CorrEll/CorrEll{N}_BIG.txt\"\n",
    "    \n",
    "    mean, std, accepted, t = bigFile(filename)\n",
    "\n",
    "    print(f\"For N = {N}, E = {mean/N}, stdErr = {std/N}, accept% = {accepted}, t = {t}\")\n",
    "    \n",
    "filename = f\"../Output/CorrEll/Corr100_Big.txt\"\n",
    "mean, std, accepted, t = bigFile(filename)\n",
    "N = 100\n",
    "print(f\"For N = {N}, E = {mean/N}, stdErr = {std/N}, accept% = {accepted}, t = {t}\")"
   ]
  },
  {
   "cell_type": "markdown",
   "id": "genuine-surface",
   "metadata": {},
   "source": [
    "## Non-Correlated Energy calculation"
   ]
  },
  {
   "cell_type": "code",
   "execution_count": 11,
   "id": "narrow-apparatus",
   "metadata": {},
   "outputs": [
    {
     "name": "stdout",
     "output_type": "stream",
     "text": [
      "For N = 10, GT time = 813.1062360000001\n",
      "For N = 50, GT time = 6125.073254000001\n",
      "For N = 100, GT time = 2550.490771\n"
     ]
    }
   ],
   "source": [
    "for N in [10, 50, 100]:\n",
    "    alpha_sum = 0\n",
    "    t1_sum = 0\n",
    "    for i in [0,1,2,3,4]:\n",
    "        filename = f\"../Output/LameEll/LameEll{N}_{i}_GD.txt\"\n",
    "        alpha, E, E2, VAR, accepted, t1 = smallFile(filename)\n",
    "        t1_sum += t1\n",
    "\n",
    "    print(f\"For N = {N}, GT time = {t1_sum}\")"
   ]
  },
  {
   "cell_type": "code",
   "execution_count": 18,
   "id": "eight-equality",
   "metadata": {},
   "outputs": [
    {
     "name": "stdout",
     "output_type": "stream",
     "text": [
      "For N = 10, E = 1.9226889291322233, stdErr = 0.0012041240326684988, accept% = 0.963882, t = 64.071472\n",
      "For N = 50, E = 2.0079611626319895, stdErr = 0.0011701614005632647, accept% = 0.9643229999999999, t = 525.959069\n",
      "For N = 100, E = 2.0889916229188445, stdErr = 0.00108819746471783, accept% = 0.9592280000000001, t = 1705.399498\n"
     ]
    }
   ],
   "source": [
    "for N in [10, 50]:\n",
    "    filename = f\"../Output/LameEll/LameEll{N}_BIG.txt\"\n",
    "    \n",
    "    mean, std, accepted, t = bigFile(filename)\n",
    "\n",
    "    print(f\"For N = {N}, E = {mean/N}, stdErr = {std/N}, accept% = {accepted}, t = {t}\")"
   ]
  }
 ],
 "metadata": {
  "kernelspec": {
   "display_name": "Python 3",
   "language": "python",
   "name": "python3"
  },
  "language_info": {
   "codemirror_mode": {
    "name": "ipython",
    "version": 3
   },
   "file_extension": ".py",
   "mimetype": "text/x-python",
   "name": "python",
   "nbconvert_exporter": "python",
   "pygments_lexer": "ipython3",
   "version": "3.6.13"
  }
 },
 "nbformat": 4,
 "nbformat_minor": 5
}
