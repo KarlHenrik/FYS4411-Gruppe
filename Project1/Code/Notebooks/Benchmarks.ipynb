{
 "cells": [
  {
   "cell_type": "code",
   "execution_count": 1,
   "id": "introductory-article",
   "metadata": {},
   "outputs": [],
   "source": [
    "import numpy as np\n",
    "import pandas as pd\n",
    "import matplotlib.pyplot as plt\n",
    "\n",
    "from customRead import bigFile, smallFile, oneBodyFile"
   ]
  },
  {
   "cell_type": "markdown",
   "id": "shaped-discount",
   "metadata": {},
   "source": [
    "## 3D Energy calculations"
   ]
  },
  {
   "cell_type": "code",
   "execution_count": 2,
   "id": "multiple-hampton",
   "metadata": {},
   "outputs": [
    {
     "name": "stderr",
     "output_type": "stream",
     "text": [
      "C:\\Users\\KarlH\\Desktop\\ComputationalPhysicsMaster\\FYS4411\\FYS4411-Gruppe\\Project1\\Code\\Notebooks\\blocking.py:23: RuntimeWarning: invalid value encountered in true_divide\n",
      "  M = ( np.cumsum( ((gamma / s)**2 * 2**np.arange(1, d+1)[::-1])[::-1] ) )[::-1]\n"
     ]
    },
    {
     "name": "stdout",
     "output_type": "stream",
     "text": [
      "Warning: Use more data\n",
      "1, 1.5, 0.0, 0.750788, 9.720807, 9.687541\n",
      "Warning: Use more data\n",
      "10, 15.0, 0.0, 0.750784, 11.170258, 16.117238\n",
      "Warning: Use more data\n",
      "100, 150.0, 0.0, 0.750926, 21.827784, 69.06695400000001\n",
      "Warning: Use more data\n",
      "500, 750.0, 0.0, 0.750761, 89.607118, 302.40767900000003\n"
     ]
    }
   ],
   "source": [
    "for N in [1, 10, 100, 500]:\n",
    "    filename = f\"../Output/Benchmarks/Bench{N}\"\n",
    "    \n",
    "    alpha, E, E2, VAR, accepted, t1 = smallFile(filename + \"_GD.txt\")\n",
    "    mean, std, accepted, t2 = bigFile(filename + \"_Big.txt\")\n",
    "    r, density = oneBodyFile(filename + \"_oB.txt\")\n",
    "\n",
    "    print(f\"{N}, {mean}, {std}, {accepted}, {t1}, {t2}\")\n",
    "    # Do stuff"
   ]
  },
  {
   "cell_type": "markdown",
   "id": "african-privilege",
   "metadata": {},
   "source": [
    "## 1D, 2D, 3D Comparison"
   ]
  },
  {
   "cell_type": "code",
   "execution_count": 3,
   "id": "confirmed-forwarding",
   "metadata": {},
   "outputs": [
    {
     "name": "stdout",
     "output_type": "stream",
     "text": [
      "Warning: Use more data\n",
      "1, 5.0, 0.0, 0.9088149999999999, 6.010782, 10.677869\n",
      "Warning: Use more data\n",
      "2, 10.0, 0.0, 0.826059, 3.931169, 13.85885\n",
      "Warning: Use more data\n",
      "3, 15.0, 0.0, 0.7508020000000001, 2.822725, 17.074018\n"
     ]
    }
   ],
   "source": [
    "for D in [1, 2, 3]:\n",
    "    filename = f\"../Output/Benchmarks/BenchDim{D}\"\n",
    "    \n",
    "    alpha, E, E2, VAR, accepted, t1 = smallFile(filename + \"_GD.txt\")\n",
    "    mean, std, accepted, t2 = bigFile(filename + \"_Big.txt\")\n",
    "    r, density = oneBodyFile(filename + \"_oB.txt\")\n",
    "    \n",
    "    print(f\"{D}, {mean}, {std}, {accepted}, {t1}, {t2}\")\n",
    "    # Do stuff"
   ]
  },
  {
   "cell_type": "code",
   "execution_count": null,
   "id": "appreciated-newark",
   "metadata": {},
   "outputs": [],
   "source": []
  }
 ],
 "metadata": {
  "kernelspec": {
   "display_name": "Python 3",
   "language": "python",
   "name": "python3"
  },
  "language_info": {
   "codemirror_mode": {
    "name": "ipython",
    "version": 3
   },
   "file_extension": ".py",
   "mimetype": "text/x-python",
   "name": "python",
   "nbconvert_exporter": "python",
   "pygments_lexer": "ipython3",
   "version": "3.6.13"
  }
 },
 "nbformat": 4,
 "nbformat_minor": 5
}
