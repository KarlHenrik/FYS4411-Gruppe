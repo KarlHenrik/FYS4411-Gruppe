{
 "cells": [
  {
   "cell_type": "code",
   "execution_count": 1,
   "id": "frank-society",
   "metadata": {},
   "outputs": [],
   "source": [
    "import numpy as np\n",
    "import pandas as pd\n",
    "import matplotlib.pyplot as plt\n",
    "\n",
    "from customRead import bigFile, smallFile, oneBodyFile"
   ]
  },
  {
   "cell_type": "markdown",
   "id": "laden-aggregate",
   "metadata": {},
   "source": [
    "## 3D Energy calculations"
   ]
  },
  {
   "cell_type": "code",
   "execution_count": null,
   "id": "gross-nerve",
   "metadata": {},
   "outputs": [],
   "source": [
    "for N in [1, 10, 100, 500]:\n",
    "    alpha, E, E2, VAR, accepted, t1 = smallFile(f\"../Output/Benchmarks/Bench{N}_GD.txt\")\n",
    "    \n",
    "    mean, std, r, density, t2 = bigFile(f\"../Output/Benchmarks/Bench{N}_Big.txt\")\n",
    "    \n",
    "    r, density = oneBodyFile(f\"../Output/Benchmarks/Bench{N}_oB.txt\")\n",
    "\n",
    "    # Do stuff"
   ]
  },
  {
   "cell_type": "code",
   "execution_count": null,
   "id": "specific-slovenia",
   "metadata": {},
   "outputs": [],
   "source": []
  },
  {
   "cell_type": "code",
   "execution_count": null,
   "id": "lonely-sitting",
   "metadata": {},
   "outputs": [],
   "source": []
  },
  {
   "cell_type": "code",
   "execution_count": null,
   "id": "secondary-continuity",
   "metadata": {},
   "outputs": [],
   "source": []
  },
  {
   "cell_type": "markdown",
   "id": "turned-python",
   "metadata": {},
   "source": [
    "## 1D, 2D, 3D Comparison"
   ]
  },
  {
   "cell_type": "code",
   "execution_count": null,
   "id": "closed-contribution",
   "metadata": {},
   "outputs": [],
   "source": [
    "for D in [1, 2, 3]:\n",
    "    alpha, E, E2, VAR, accepted, t1 = smallFile(f\"../Output/Benchmarks/BenchDim{D}_GD.txt\")\n",
    "    \n",
    "    mean, std, t2 = bigFile(f\"../Output/Benchmarks/BenchDim{D}_Big.txt\")\n",
    "    \n",
    "    r, density = oneBodyFile(f\"../Output/Benchmarks/BenchDim{D}_oB.txt\")\n",
    "    \n",
    "    # Do stuff"
   ]
  },
  {
   "cell_type": "code",
   "execution_count": null,
   "id": "burning-silence",
   "metadata": {},
   "outputs": [],
   "source": []
  }
 ],
 "metadata": {
  "kernelspec": {
   "display_name": "Python 3",
   "language": "python",
   "name": "python3"
  },
  "language_info": {
   "codemirror_mode": {
    "name": "ipython",
    "version": 3
   },
   "file_extension": ".py",
   "mimetype": "text/x-python",
   "name": "python",
   "nbconvert_exporter": "python",
   "pygments_lexer": "ipython3",
   "version": "3.6.13"
  }
 },
 "nbformat": 4,
 "nbformat_minor": 5
}
