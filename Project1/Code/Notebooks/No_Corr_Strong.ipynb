{
 "cells": [
  {
   "cell_type": "code",
   "execution_count": 2,
   "id": "recent-mineral",
   "metadata": {},
   "outputs": [],
   "source": [
    "import numpy as np\n",
    "import pandas as pd\n",
    "import matplotlib.pyplot as plt\n",
    "\n",
    "from customRead import bigFile, smallFile, oneBodyFile"
   ]
  },
  {
   "cell_type": "markdown",
   "id": "peaceful-richardson",
   "metadata": {},
   "source": [
    "# No"
   ]
  },
  {
   "cell_type": "code",
   "execution_count": 5,
   "id": "sorted-anthony",
   "metadata": {},
   "outputs": [
    {
     "name": "stdout",
     "output_type": "stream",
     "text": [
      "For N = 2, GT time = 9.213557\n",
      "For N = 3, GT time = 9.645791000000001\n",
      "For N = 5, GT time = 11.221568000000001\n",
      "For N = 10, GT time = 17.818945\n",
      "For N = 20, GT time = 26.715864000000003\n"
     ]
    }
   ],
   "source": [
    "for N in [2,3,5,10,20]:\n",
    "    alpha_sum = 0\n",
    "    t1_sum = 0\n",
    "    for i in [0,1,2,3,4]:\n",
    "        filename = f\"../Output/NoCorr/NoCorr_{i}{N}_GD.txt\"\n",
    "        alpha, E, E2, VAR, accepted, t1 = smallFile(filename)\n",
    "        t1_sum += t1\n",
    "\n",
    "    print(f\"For N = {N}, GT time = {t1_sum}\")"
   ]
  },
  {
   "cell_type": "code",
   "execution_count": 6,
   "id": "surprised-arkansas",
   "metadata": {},
   "outputs": [
    {
     "name": "stdout",
     "output_type": "stream",
     "text": [
      "For N = 2, E = 1.500000003911256, stdErr = 3.4881570211079997e-10, accept% = 0.970662, t = 11.962581\n",
      "For N = 3, E = 1.500000035580001, stdErr = 1.2509904181739722e-09, accept% = 0.9706370000000001, t = 14.475667000000001\n",
      "For N = 5, E = 1.499999995689155, stdErr = 3.5634915657371233e-10, accept% = 0.970659, t = 17.697212\n"
     ]
    },
    {
     "name": "stderr",
     "output_type": "stream",
     "text": [
      "C:\\Users\\KarlH\\Desktop\\ComputationalPhysicsMaster\\FYS4411\\FYS4411-Gruppe\\Project1\\Code\\Notebooks\\blocking.py:23: RuntimeWarning: invalid value encountered in true_divide\n",
      "  M = ( np.cumsum( ((gamma / s)**2 * 2**np.arange(1, d+1)[::-1])[::-1] ) )[::-1]\n"
     ]
    },
    {
     "name": "stdout",
     "output_type": "stream",
     "text": [
      "Warning: Use more data\n",
      "For N = 10, E = 1.5, stdErr = 0.0, accept% = 0.9706469999999999, t = 27.663304999999998\n",
      "Warning: Use more data\n",
      "For N = 20, E = 1.5, stdErr = 0.0, accept% = 0.970665, t = 47.759345\n"
     ]
    }
   ],
   "source": [
    "for N in [2,3,5,10,20]:\n",
    "    filename = f\"../Output/NoCorr/NoCorr_{N}_Big.txt\"\n",
    "    \n",
    "    mean, std, accepted, t = bigFile(filename)\n",
    "\n",
    "    print(f\"For N = {N}, E = {mean/N}, stdErr = {std/N}, accept% = {accepted}, t = {t}\")"
   ]
  },
  {
   "cell_type": "markdown",
   "id": "thorough-slovak",
   "metadata": {},
   "source": [
    "# Strong"
   ]
  },
  {
   "cell_type": "code",
   "execution_count": 7,
   "id": "electronic-attempt",
   "metadata": {},
   "outputs": [
    {
     "name": "stdout",
     "output_type": "stream",
     "text": [
      "For N = 2, GT time = 52.972718\n",
      "For N = 3, GT time = 111.37834299999999\n",
      "For N = 5, GT time = 177.738631\n",
      "For N = 10, GT time = 433.600445\n",
      "For N = 20, GT time = 606.046023\n"
     ]
    }
   ],
   "source": [
    "for N in [2,3,5,10,20]:\n",
    "    alpha_sum = 0\n",
    "    t1_sum = 0\n",
    "    for i in [0,1,2,3,4]:\n",
    "        filename = f\"../Output/StrongCorr/StrongCorr_{i}{N}_GD.txt\"\n",
    "        alpha, E, E2, VAR, accepted, t1 = smallFile(filename)\n",
    "        t1_sum += t1\n",
    "\n",
    "    print(f\"For N = {N}, GT time = {t1_sum}\")"
   ]
  },
  {
   "cell_type": "code",
   "execution_count": 8,
   "id": "other-transfer",
   "metadata": {},
   "outputs": [
    {
     "name": "stdout",
     "output_type": "stream",
     "text": [
      "For N = 2, E = 1.5171179582363348, stdErr = 3.2330989935677834e-05, accept% = 0.9697120000000001, t = 17.561685\n",
      "For N = 3, E = 1.5338678195085922, stdErr = 4.429571215794499e-05, accept% = 0.9684440000000001, t = 22.560653\n",
      "For N = 5, E = 1.5674320852638475, stdErr = 8.193904292293642e-05, accept% = 0.9661559999999999, t = 33.154933\n",
      "For N = 10, E = 1.722439335497142, stdErr = 0.056110574539957735, accept% = 0.9552069999999999, t = 67.353899\n",
      "For N = 20, E = 1.774630847367995, stdErr = 0.0008094009843910127, accept% = 0.9420129999999999, t = 146.51150900000002\n"
     ]
    }
   ],
   "source": [
    "for N in [2,3,5,10,20]:\n",
    "    filename = f\"../Output/StrongCorr/StrongCorr_{N}_Big.txt\"\n",
    "    \n",
    "    mean, std, accepted, t = bigFile(filename)\n",
    "\n",
    "    print(f\"For N = {N}, E = {mean/N}, stdErr = {std/N}, accept% = {accepted}, t = {t}\")"
   ]
  },
  {
   "cell_type": "code",
   "execution_count": null,
   "id": "animal-gasoline",
   "metadata": {},
   "outputs": [],
   "source": []
  }
 ],
 "metadata": {
  "kernelspec": {
   "display_name": "Python 3",
   "language": "python",
   "name": "python3"
  },
  "language_info": {
   "codemirror_mode": {
    "name": "ipython",
    "version": 3
   },
   "file_extension": ".py",
   "mimetype": "text/x-python",
   "name": "python",
   "nbconvert_exporter": "python",
   "pygments_lexer": "ipython3",
   "version": "3.6.13"
  }
 },
 "nbformat": 4,
 "nbformat_minor": 5
}
