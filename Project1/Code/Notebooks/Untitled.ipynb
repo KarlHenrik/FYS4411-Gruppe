{
 "cells": [
  {
   "cell_type": "code",
   "execution_count": null,
   "id": "empty-window",
   "metadata": {},
   "outputs": [],
   "source": []
  },
  {
   "cell_type": "code",
   "execution_count": 5,
   "id": "furnished-overhead",
   "metadata": {},
   "outputs": [],
   "source": [
    "a = 0.0042\n",
    "r = 0.016\n",
    "temp = a / (r**2 - a * r)"
   ]
  },
  {
   "cell_type": "code",
   "execution_count": 2,
   "id": "attended-renaissance",
   "metadata": {},
   "outputs": [
    {
     "data": {
      "text/plain": [
       "45918.36734693875"
      ]
     },
     "execution_count": 2,
     "metadata": {},
     "output_type": "execute_result"
    }
   ],
   "source": [
    "temp * temp"
   ]
  },
  {
   "cell_type": "code",
   "execution_count": 3,
   "id": "fallen-acrobat",
   "metadata": {},
   "outputs": [
    {
     "data": {
      "text/plain": [
       "214.28571428571422"
      ]
     },
     "execution_count": 3,
     "metadata": {},
     "output_type": "execute_result"
    }
   ],
   "source": [
    "-a / (a * r - r**2)"
   ]
  },
  {
   "cell_type": "code",
   "execution_count": 6,
   "id": "prescription-paraguay",
   "metadata": {},
   "outputs": [
    {
     "data": {
      "text/plain": [
       "22.24576271186441"
      ]
     },
     "execution_count": 6,
     "metadata": {},
     "output_type": "execute_result"
    }
   ],
   "source": [
    "temp"
   ]
  },
  {
   "cell_type": "code",
   "execution_count": 7,
   "id": "bizarre-paragraph",
   "metadata": {},
   "outputs": [
    {
     "data": {
      "text/plain": [
       "484"
      ]
     },
     "execution_count": 7,
     "metadata": {},
     "output_type": "execute_result"
    }
   ],
   "source": [
    "22*22"
   ]
  },
  {
   "cell_type": "code",
   "execution_count": 9,
   "id": "recognized-physiology",
   "metadata": {},
   "outputs": [
    {
     "data": {
      "text/plain": [
       "173.20508075688772"
      ]
     },
     "execution_count": 9,
     "metadata": {},
     "output_type": "execute_result"
    }
   ],
   "source": [
    "30000**0.5"
   ]
  },
  {
   "cell_type": "code",
   "execution_count": 10,
   "id": "talented-immigration",
   "metadata": {},
   "outputs": [
    {
     "data": {
      "text/plain": [
       "4000000"
      ]
     },
     "execution_count": 10,
     "metadata": {},
     "output_type": "execute_result"
    }
   ],
   "source": [
    "2000*2000"
   ]
  },
  {
   "cell_type": "code",
   "execution_count": 11,
   "id": "periodic-canon",
   "metadata": {},
   "outputs": [],
   "source": [
    "ha = 5\n",
    "ha *= 1 + 2"
   ]
  },
  {
   "cell_type": "code",
   "execution_count": 12,
   "id": "regulated-scroll",
   "metadata": {},
   "outputs": [
    {
     "data": {
      "text/plain": [
       "15"
      ]
     },
     "execution_count": 12,
     "metadata": {},
     "output_type": "execute_result"
    }
   ],
   "source": [
    "ha"
   ]
  },
  {
   "cell_type": "code",
   "execution_count": null,
   "id": "sound-edition",
   "metadata": {},
   "outputs": [],
   "source": []
  }
 ],
 "metadata": {
  "kernelspec": {
   "display_name": "Python 3",
   "language": "python",
   "name": "python3"
  },
  "language_info": {
   "codemirror_mode": {
    "name": "ipython",
    "version": 3
   },
   "file_extension": ".py",
   "mimetype": "text/x-python",
   "name": "python",
   "nbconvert_exporter": "python",
   "pygments_lexer": "ipython3",
   "version": "3.6.13"
  }
 },
 "nbformat": 4,
 "nbformat_minor": 5
}
