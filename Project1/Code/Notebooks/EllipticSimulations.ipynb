{
 "cells": [
  {
   "cell_type": "code",
   "execution_count": 3,
   "id": "assisted-offering",
   "metadata": {},
   "outputs": [],
   "source": [
    "import numpy as np\n",
    "import pandas as pd\n",
    "import matplotlib.pyplot as plt\n",
    "\n",
    "from customRead import bigFile, smallFile, oneBodyFile"
   ]
  },
  {
   "cell_type": "markdown",
   "id": "extra-hardware",
   "metadata": {},
   "source": [
    "## Correlated Energy calculations"
   ]
  },
  {
   "cell_type": "code",
   "execution_count": 11,
   "id": "utility-captain",
   "metadata": {},
   "outputs": [
    {
     "name": "stdout",
     "output_type": "stream",
     "text": [
      "For N = 10, GT time = 813.1062360000001\n",
      "For N = 50, GT time = 6125.073254000001\n",
      "For N = 100, GT time = 2550.490771\n"
     ]
    }
   ],
   "source": [
    "for N in [10, 50]:\n",
    "    alpha_sum = 0\n",
    "    t1_sum = 0\n",
    "    for i in [0,1,2,3,4]:\n",
    "        filename = f\"../Output/CorrEll/CorrEll{N}_{i}_GD.txt\"\n",
    "        alpha, E, E2, VAR, accepted, t1 = smallFile(filename)\n",
    "        t1_sum += t1\n",
    "\n",
    "    print(f\"For N = {N}, GT time = {t1_sum}\")\n",
    "    \n",
    "filename = f\"../Output/CorrEll/Corr100_GD.txt\"\n",
    "alpha, E, E2, VAR, accepted, t1 = smallFile(filename)\n",
    "print(f\"For N = 100, GT time = {t1}\")"
   ]
  },
  {
   "cell_type": "code",
   "execution_count": 18,
   "id": "earned-burner",
   "metadata": {},
   "outputs": [
    {
     "name": "stdout",
     "output_type": "stream",
     "text": [
      "For N = 10, E = 1.9226889291322233, stdErr = 0.0012041240326684988, accept% = 0.963882, t = 64.071472\n",
      "For N = 50, E = 2.0079611626319895, stdErr = 0.0011701614005632647, accept% = 0.9643229999999999, t = 525.959069\n",
      "For N = 100, E = 2.0889916229188445, stdErr = 0.00108819746471783, accept% = 0.9592280000000001, t = 1705.399498\n"
     ]
    }
   ],
   "source": [
    "for N in [10, 50]:\n",
    "    filename = f\"../Output/CorrEll/CorrEll{N}_BIG.txt\"\n",
    "    \n",
    "    mean, std, accepted, t = bigFile(filename)\n",
    "\n",
    "    print(f\"For N = {N}, E = {mean/N}, stdErr = {std/N}, accept% = {accepted}, t = {t}\")\n",
    "    \n",
    "filename = f\"../Output/CorrEll/Corr100_Big.txt\"\n",
    "mean, std, accepted, t = bigFile(filename)\n",
    "N = 100\n",
    "print(f\"For N = {N}, E = {mean/N}, stdErr = {std/N}, accept% = {accepted}, t = {t}\")"
   ]
  },
  {
   "cell_type": "markdown",
   "id": "official-community",
   "metadata": {},
   "source": [
    "## Non-Correlated Energy calculation"
   ]
  },
  {
   "cell_type": "code",
   "execution_count": 19,
   "id": "royal-endorsement",
   "metadata": {},
   "outputs": [
    {
     "name": "stdout",
     "output_type": "stream",
     "text": [
      "For N = 10, GT time = 163.038214\n",
      "For N = 50, GT time = 575.348178\n",
      "For N = 100, GT time = 1059.040447\n"
     ]
    }
   ],
   "source": [
    "for N in [10, 50, 100]:\n",
    "    alpha_sum = 0\n",
    "    t1_sum = 0\n",
    "    for i in [0,1,2,3,4]:\n",
    "        filename = f\"../Output/LameEll/LameEll{N}_{i}_GD.txt\"\n",
    "        alpha, E, E2, VAR, accepted, t1 = smallFile(filename)\n",
    "        t1_sum += t1\n",
    "\n",
    "    print(f\"For N = {N}, GT time = {t1_sum}\")"
   ]
  },
  {
   "cell_type": "code",
   "execution_count": 23,
   "id": "native-making",
   "metadata": {},
   "outputs": [
    {
     "name": "stdout",
     "output_type": "stream",
     "text": [
      "For N = 10, E = 1.9018518089282517, stdErr = 0.0012037147883864922, accept% = 0.9633950000000001, t = 30.248494\n",
      "For N = 50, E = 1.902306529625655, stdErr = 0.0011134485032590047, accept% = 0.963195, t = 101.553235\n",
      "For N = 100, E = 1.901924097485539, stdErr = 0.001084120693140485, accept% = 0.9634520000000001, t = 194.031149\n"
     ]
    }
   ],
   "source": [
    "for N in [10, 50, 100]:\n",
    "    filename = f\"../Output/LameEll/LameEll{N}_Big.txt\"\n",
    "    \n",
    "    mean, std, accepted, t = bigFile(filename)\n",
    "\n",
    "    print(f\"For N = {N}, E = {mean/N}, stdErr = {std/N}, accept% = {accepted}, t = {t}\")"
   ]
  },
  {
   "cell_type": "code",
   "execution_count": null,
   "id": "valued-there",
   "metadata": {},
   "outputs": [],
   "source": []
  }
 ],
 "metadata": {
  "kernelspec": {
   "display_name": "Python 3",
   "language": "python",
   "name": "python3"
  },
  "language_info": {
   "codemirror_mode": {
    "name": "ipython",
    "version": 3
   },
   "file_extension": ".py",
   "mimetype": "text/x-python",
   "name": "python",
   "nbconvert_exporter": "python",
   "pygments_lexer": "ipython3",
   "version": "3.6.13"
  }
 },
 "nbformat": 4,
 "nbformat_minor": 5
}
