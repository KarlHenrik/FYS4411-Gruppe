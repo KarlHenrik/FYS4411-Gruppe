{
 "cells": [
  {
   "cell_type": "markdown",
   "id": "antique-profit",
   "metadata": {},
   "source": [
    "## Setup of system"
   ]
  },
  {
   "cell_type": "code",
   "execution_count": 79,
   "id": "similar-concord",
   "metadata": {},
   "outputs": [],
   "source": [
    "import numpy as np\n",
    "np.set_printoptions(precision=2) # 2 decimals when printing arrays\n",
    "np.set_printoptions(suppress=True) # No scientific notation for small numbers\n",
    "import matplotlib.pyplot as plt\n",
    "from scipy.integrate import complex_ode\n",
    "\n",
    "from quantum_systems import ODQD, GeneralOrbitalSystem # library developed by Øyvind Schøyen and others, https://github.com/Schoyen/quantum-systems"
   ]
  },
  {
   "cell_type": "code",
   "execution_count": 80,
   "id": "hispanic-barcelona",
   "metadata": {},
   "outputs": [],
   "source": [
    "l_0 = 10                # number of basis functions\n",
    "grid_length = 10        # compute from x = -10 to x = 10 in 1D\n",
    "num_grid_points = 2001\n",
    "omega = 0.25            # strength of harmonic oscillator potential\n",
    "n = 2                   # number of particles\n",
    "\n",
    "# this sets up the harmonic oscillator basis functions and integrals between them\n",
    "odho = ODQD(l_0, grid_length, num_grid_points, a = 0.25, alpha = 1, potential = ODQD.HOPotential(omega))\n",
    "\n",
    "# this makes a spin up and spin down variant of the odho basis function and sets up the integrals between them\n",
    "system = GeneralOrbitalSystem(n = n, basis_set=odho)\n",
    "l = system.l"
   ]
  },
  {
   "cell_type": "code",
   "execution_count": 81,
   "id": "terminal-dispute",
   "metadata": {},
   "outputs": [
    {
     "name": "stdout",
     "output_type": "stream",
     "text": [
      "l = 20\n",
      "grid shape = (2001,)\n",
      "h shape = (20, 20)\n",
      "u shape = (20, 20, 20, 20)\n",
      "x shape = (1, 20, 20)\n",
      "spf shape = (20, 2001)\n"
     ]
    }
   ],
   "source": [
    "print(f\"l = {system.l}\")\n",
    "print(f\"grid shape = {system._basis_set.grid.shape}\")\n",
    "print(f\"h shape = {system.h.shape}\")\n",
    "print(f\"u shape = {system.u.shape}\")\n",
    "print(f\"x shape = {system.position.shape}\")\n",
    "print(f\"spf shape = {system.spf.shape}\")"
   ]
  },
  {
   "cell_type": "code",
   "execution_count": 82,
   "id": "fabulous-movement",
   "metadata": {},
   "outputs": [
    {
     "data": {
      "text/plain": [
       "array([0.12, 0.12, 0.37, 0.37, 0.62, 0.62, 0.87, 0.87, 1.12, 1.12, 1.38,\n",
       "       1.38, 1.63, 1.63, 1.88, 1.88, 2.13, 2.13, 2.38, 2.38])"
      ]
     },
     "execution_count": 82,
     "metadata": {},
     "output_type": "execute_result"
    }
   ],
   "source": [
    "np.diag(system.h.real)"
   ]
  },
  {
   "cell_type": "code",
   "execution_count": 83,
   "id": "ambient-lighting",
   "metadata": {},
   "outputs": [],
   "source": [
    "def getP(C):\n",
    "    l = C.shape[0]\n",
    "    P = np.zeros((l, l), dtype=complex)\n",
    "    \n",
    "    for g in range(l):\n",
    "        for d in range(l):\n",
    "            for i in range(n):\n",
    "                P[d, g] += np.conj(C[g, i]) * C[d, i]\n",
    "    return P"
   ]
  },
  {
   "cell_type": "code",
   "execution_count": 84,
   "id": "surgical-valve",
   "metadata": {},
   "outputs": [],
   "source": [
    "def getF(C):\n",
    "    l = C.shape[0]\n",
    "    F = np.zeros((l, l), dtype=complex)\n",
    "    P = getP(C)\n",
    "    \n",
    "    for b in range(l):\n",
    "        for a in range(l):\n",
    "            F[b, a] += system.h[b, a]\n",
    "            for g in range(l):\n",
    "                for d in range(l):\n",
    "                    F[b, a] += P[d, g] * system.u[b, g, a, d]\n",
    "    return F"
   ]
  },
  {
   "cell_type": "code",
   "execution_count": 85,
   "id": "sunrise-finding",
   "metadata": {},
   "outputs": [],
   "source": [
    "C = np.eye(l, dtype=complex)"
   ]
  },
  {
   "cell_type": "code",
   "execution_count": 112,
   "id": "young-sheet",
   "metadata": {},
   "outputs": [],
   "source": [
    "for i in range(20):\n",
    "    F = getF(C)\n",
    "    vals, C = np.linalg.eigh(F)"
   ]
  },
  {
   "cell_type": "code",
   "execution_count": 113,
   "id": "stunning-james",
   "metadata": {},
   "outputs": [
    {
     "name": "stdout",
     "output_type": "stream",
     "text": [
      "[ 0.46  0.54 -0.44 -0.46 -0.18 -0.22  0.02  0.02 -0.02 -0.02 -0.   -0.\n",
      " -0.01 -0.01 -0.   -0.   -0.   -0.   -0.   -0.  ]\n"
     ]
    }
   ],
   "source": [
    "gs = C[:, 0].real\n",
    "print(gs)"
   ]
  },
  {
   "cell_type": "code",
   "execution_count": 114,
   "id": "primary-portrait",
   "metadata": {},
   "outputs": [
    {
     "data": {
      "image/png": "[encoded data removed]",
      "text/plain": [
       "<Figure size 432x288 with 1 Axes>"
      ]
     },
     "metadata": {
      "needs_background": "light"
     },
     "output_type": "display_data"
    }
   ],
   "source": [
    "gs_vals = np.zeros(num_grid_points, dtype = complex)\n",
    "for i in range(l):\n",
    "    gs_vals += gs[i] * system.spf[i]\n",
    "    \n",
    "plt.plot(system.grid, np.abs(gs_vals)**2 / np.sum(np.abs(gs_vals)**2) * num_grid_points / 10, label=r\"$\\psi_{GS}$\",) # why this normalization?\n",
    "plt.xlim(-6, 6)\n",
    "\n",
    "plt.grid()\n",
    "plt.legend()\n",
    "plt.show()"
   ]
  },
  {
   "cell_type": "code",
   "execution_count": 115,
   "id": "formal-columbus",
   "metadata": {},
   "outputs": [
    {
     "name": "stdout",
     "output_type": "stream",
     "text": [
      "(0.8558027525971676+0j)\n"
     ]
    }
   ],
   "source": [
    "system.change_basis(C)\n",
    "print(system.compute_reference_energy())\n",
    "odho = ODQD(l_0, grid_length, num_grid_points, a = 0.25, alpha = 1, potential = ODQD.HOPotential(omega))\n",
    "system = GeneralOrbitalSystem(n = n, basis_set=odho)"
   ]
  },
  {
   "cell_type": "markdown",
   "id": "academic-package",
   "metadata": {},
   "source": [
    "## TDHF"
   ]
  },
  {
   "cell_type": "code",
   "execution_count": 90,
   "id": "trained-albert",
   "metadata": {},
   "outputs": [],
   "source": [
    "odho = ODQD(l_0, grid_length, num_grid_points, a = 0.25, alpha = 1, potential = ODQD.HOPotential(omega))\n",
    "td_sys = GeneralOrbitalSystem(n = n, basis_set=odho)\n",
    "td_sys.change_basis(C)"
   ]
  },
  {
   "cell_type": "code",
   "execution_count": 70,
   "id": "wound-official",
   "metadata": {},
   "outputs": [],
   "source": [
    "y0 = np.eye(l).reshape(-1)\n",
    "\n",
    "t0 = 0\n",
    "t1 = 10\n",
    "dt = 0.01"
   ]
  },
  {
   "cell_type": "code",
   "execution_count": 71,
   "id": "settled-visitor",
   "metadata": {},
   "outputs": [],
   "source": [
    "N = int((t1 - t0) / dt) + 2\n",
    "\n",
    "t = np.zeros(N)\n",
    "t[0] = t0\n",
    "y = np.zeros((N, y0.shape[0]), dtype=complex)\n",
    "y[0] = y0"
   ]
  },
  {
   "cell_type": "code",
   "execution_count": 72,
   "id": "varying-freight",
   "metadata": {},
   "outputs": [],
   "source": [
    "def laser(t):\n",
    "    eps_0 = 1\n",
    "    omega_e = 8 * omega\n",
    "    return eps_0 * np.sin(omega_e * t)\n",
    "\n",
    "def getFt(t, C):\n",
    "    l = C.shape[0]\n",
    "    F = np.zeros((l, l), dtype=complex)\n",
    "    P = getP(C)\n",
    "    \n",
    "    F += td_sys.h\n",
    "    F += td_sys.position[0] * laser(t)\n",
    "    for b in range(l):\n",
    "        for a in range(l):\n",
    "            for g in range(l):\n",
    "                for d in range(l):\n",
    "                    F[b, a] += P[d, g] * td_sys.u[b, g, a, d]\n",
    "    return F"
   ]
  },
  {
   "cell_type": "code",
   "execution_count": 73,
   "id": "bulgarian-quantum",
   "metadata": {},
   "outputs": [],
   "source": [
    "def f(t, C):\n",
    "    l = int(np.sqrt(C.shape[0]))\n",
    "    C = C.reshape(l, l)\n",
    "    F = getFt(t, C)\n",
    "    Cdot = -1j * F @ C\n",
    "    \n",
    "    return Cdot.reshape(-1)"
   ]
  },
  {
   "cell_type": "code",
   "execution_count": 74,
   "id": "superior-deadline",
   "metadata": {},
   "outputs": [],
   "source": [
    "r = complex_ode(f).set_integrator('vode')\n",
    "r.set_initial_value(y0, t0)\n",
    "\n",
    "i = 1\n",
    "while r.successful() and r.t < t1:\n",
    "    t[i] = r.t + dt\n",
    "    y[i] = r.integrate(r.t + dt)\n",
    "    i += 1\n",
    "    \n",
    "t = t[:i]\n",
    "y = y[:i]"
   ]
  },
  {
   "cell_type": "code",
   "execution_count": 109,
   "id": "listed-blackberry",
   "metadata": {},
   "outputs": [
    {
     "name": "stdout",
     "output_type": "stream",
     "text": [
      "[-0.87+0.45j -0.  +0.j    0.  +0.j    0.03+0.2j   0.03+0.01j -0.  -0.j\n",
      "  0.  -0.j    0.02-0.01j  0.  +0.01j  0.  -0.j   -0.  +0.j   -0.  +0.j\n",
      " -0.  -0.j    0.  +0.j    0.  -0.j   -0.  +0.j   -0.  +0.j    0.  +0.j\n",
      " -0.  -0.j   -0.  -0.j  ]\n"
     ]
    }
   ],
   "source": [
    "C0 = y[1000, :].reshape(l, l)\n",
    "\n",
    "gs = C0[:, 0]\n",
    "print(gs)"
   ]
  },
  {
   "cell_type": "code",
   "execution_count": 110,
   "id": "directed-living",
   "metadata": {},
   "outputs": [
    {
     "data": {
      "text/plain": [
       "array([0.98, 0.  , 0.  , 0.21, 0.03, 0.  , 0.  , 0.02, 0.01, 0.  , 0.  ,\n",
       "       0.  , 0.  , 0.  , 0.  , 0.  , 0.  , 0.  , 0.  , 0.  ])"
      ]
     },
     "execution_count": 110,
     "metadata": {},
     "output_type": "execute_result"
    }
   ],
   "source": [
    "np.abs(C0[:, 0])"
   ]
  },
  {
   "cell_type": "code",
   "execution_count": 111,
   "id": "sound-california",
   "metadata": {},
   "outputs": [
    {
     "data": {
      "image/png": "[encoded data removed]",
      "text/plain": [
       "<Figure size 432x288 with 1 Axes>"
      ]
     },
     "metadata": {
      "needs_background": "light"
     },
     "output_type": "display_data"
    }
   ],
   "source": [
    "gs_vals = np.zeros(num_grid_points, dtype = complex)\n",
    "for i in range(l):\n",
    "    gs_vals += gs[i] * td_sys.spf[i]\n",
    "    \n",
    "plt.plot(td_sys.grid, np.abs(gs_vals)**2 / np.sum(np.abs(gs_vals)**2) * num_grid_points, label=r\"$\\psi_{GS}$\",) # why this normalization?\n",
    "plt.xlim(-6, 6)\n",
    "\n",
    "plt.grid()\n",
    "plt.legend()\n",
    "plt.show()"
   ]
  },
  {
   "cell_type": "code",
   "execution_count": null,
   "id": "illegal-saturday",
   "metadata": {},
   "outputs": [],
   "source": []
  }
 ],
 "metadata": {
  "kernelspec": {
   "display_name": "Python 3",
   "language": "python",
   "name": "python3"
  },
  "language_info": {
   "codemirror_mode": {
    "name": "ipython",
    "version": 3
   },
   "file_extension": ".py",
   "mimetype": "text/x-python",
   "name": "python",
   "nbconvert_exporter": "python",
   "pygments_lexer": "ipython3",
   "version": "3.8.5"
  }
 },
 "nbformat": 4,
 "nbformat_minor": 5
}
