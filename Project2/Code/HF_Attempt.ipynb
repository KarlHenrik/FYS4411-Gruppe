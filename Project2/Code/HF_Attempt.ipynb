{
 "cells": [
  {
   "cell_type": "markdown",
   "id": "sapphire-trigger",
   "metadata": {},
   "source": [
    "## Setup of system"
   ]
  },
  {
   "cell_type": "code",
   "execution_count": null,
   "id": "sustained-gather",
   "metadata": {},
   "outputs": [],
   "source": [
    "import numpy as np\n",
    "np.set_printoptions(precision=2) # 2 decimals when printing arrays\n",
    "np.set_printoptions(suppress=True) # No scientific notation for small numbers\n",
    "import matplotlib.pyplot as plt\n",
    "from scipy.integrate import complex_ode, simps\n",
    "\n",
    "from numba import njit\n",
    "\n",
    "from quantum_systems import ODQD, GeneralOrbitalSystem # library developed by Øyvind Schøyen and others, https://github.com/Schoyen/quantum-systems\n",
    "\n",
    "import matplotlib.animation as animation\n",
    "import matplotlib.image as mpimg\n",
    "from IPython.display import HTML"
   ]
  },
  {
   "cell_type": "code",
   "execution_count": null,
   "id": "lyric-adobe",
   "metadata": {},
   "outputs": [],
   "source": [
    "l_0 = 10                # number of basis functions\n",
    "grid_length = 10        # compute from x = -10 to x = 10 in 1D\n",
    "num_grid_points = 2001\n",
    "omega = 0.25            # strength of harmonic oscillator potential\n",
    "n = 2                   # number of particles\n",
    "\n",
    "# this sets up the harmonic oscillator basis functions and integrals between them\n",
    "odho = ODQD(l_0, grid_length, num_grid_points, a = 0.25, alpha = 1, potential = ODQD.HOPotential(omega))\n",
    "\n",
    "# this makes a spin up and spin down variant of the odho basis function and sets up the integrals between them\n",
    "system = GeneralOrbitalSystem(n = n, basis_set=odho)"
   ]
  },
  {
   "cell_type": "code",
   "execution_count": null,
   "id": "delayed-gathering",
   "metadata": {},
   "outputs": [],
   "source": [
    "@njit\n",
    "def getP(C, n):\n",
    "    l = C.shape[0]\n",
    "    P = np.zeros((l, l), dtype=\"c16\")\n",
    "    \n",
    "    for g in range(l):\n",
    "        for d in range(l):\n",
    "            for i in range(n):\n",
    "                P[d, g] += np.conj(C[g, i]) * C[d, i]\n",
    "    return P\n",
    "\n",
    "@njit\n",
    "def getF(P, h, u):\n",
    "    l = P.shape[0]\n",
    "    F = np.zeros((l, l), dtype=\"c16\")\n",
    "    \n",
    "    F += h\n",
    "    for b in range(l):\n",
    "        for a in range(l):\n",
    "            for g in range(l):\n",
    "                for d in range(l):\n",
    "                    F[b, a] += P[d, g] * u[b, g, a, d]\n",
    "    return F\n",
    "\n",
    "def ex_x(y, system):\n",
    "    expectation_pos = np.zeros(y.shape[0], dtype = complex)\n",
    "    l = system.l\n",
    "    pos = system.position[0]\n",
    "    \n",
    "    for i in range(y.shape[0]):\n",
    "        Ci = y[i, :].reshape(l, l)\n",
    "        P = getP(Ci, system.n)\n",
    "        for b in range(l):\n",
    "            for a in range(l):\n",
    "                expectation_pos[i] += P[b, a] * pos[a, b]\n",
    "    return expectation_pos.real\n",
    "\n",
    "def SCF(C, system, iters = 20):\n",
    "    for i in range(iters):\n",
    "        P = getP(C, system.n)\n",
    "        F = getF(P, system.h, system.u)\n",
    "        vals, C = np.linalg.eigh(F)\n",
    "    return C"
   ]
  },
  {
   "cell_type": "code",
   "execution_count": null,
   "id": "instrumental-alias",
   "metadata": {},
   "outputs": [],
   "source": [
    "C = np.eye(system.l, dtype=\"c16\")"
   ]
  },
  {
   "cell_type": "code",
   "execution_count": null,
   "id": "standing-transsexual",
   "metadata": {},
   "outputs": [],
   "source": [
    "C = SCF(C, system, 20)"
   ]
  },
  {
   "cell_type": "code",
   "execution_count": null,
   "id": "intended-papua",
   "metadata": {},
   "outputs": [],
   "source": [
    "gs_0 = C[:, 0]\n",
    "gs_1 = C[:, 1]\n",
    "display(f\"GS 0 coefs: {gs_0.real}\".replace(\"\\n\", \"\"))\n",
    "display(f\"GS 1 coefs: {gs_1.real}\".replace(\"\\n\", \"\"))\n",
    "\n",
    "gs_vals_0 = np.zeros(num_grid_points, dtype = complex)\n",
    "gs_vals_1 = np.zeros(num_grid_points, dtype = complex)\n",
    "for i in range(system.l):\n",
    "    gs_vals_0 += gs_0[i] * system.spf[i]\n",
    "    gs_vals_1 += gs_1[i] * system.spf[i]\n",
    "\n",
    "\n",
    "\n",
    "plt.figure(figsize=(8,6))\n",
    "plt.plot(system.grid, np.abs(gs_vals_0)**2 / np.sum(np.abs(gs_vals_0)**2) * num_grid_points / 10, label=r\"$\\psi_{GS 0}$\")\n",
    "plt.plot(system.grid, np.abs(gs_vals_1)**2 / np.sum(np.abs(gs_vals_1)**2) * num_grid_points / 10, label=r\"$\\psi_{GS 1}$\")\n",
    "\n",
    "img=mpimg.imread('GS.PNG')\n",
    "plt.imshow(img, extent=[-6, 6, 0, 0.4], aspect='auto', alpha = 0.5)\n",
    "\n",
    "plt.xlim(-6, 6)\n",
    "plt.xlabel(r'$x$')\n",
    "plt.ylabel(r'$\\rho (x)$')\n",
    "plt.grid()\n",
    "plt.legend()\n",
    "plt.show()"
   ]
  },
  {
   "cell_type": "code",
   "execution_count": null,
   "id": "authentic-terminology",
   "metadata": {},
   "outputs": [],
   "source": [
    "system.change_basis(C)\n",
    "print(f\"GS energy: {system.compute_reference_energy().real:.6f}\")\n",
    "print(f\"Reference: {1.1795}\")\n",
    "print(f'\"Exact\"  : {0.8247}')\n",
    "odho = ODQD(l_0, grid_length, num_grid_points, a = 0.25, alpha = 1, potential = ODQD.HOPotential(omega))\n",
    "system = GeneralOrbitalSystem(n = n, basis_set=odho)"
   ]
  },
  {
   "cell_type": "markdown",
   "id": "blank-proceeding",
   "metadata": {},
   "source": [
    "## TDHF"
   ]
  },
  {
   "cell_type": "code",
   "execution_count": null,
   "id": "split-license",
   "metadata": {},
   "outputs": [],
   "source": [
    "class RHS(object):\n",
    "    def __init__(self, system, eps_0, omega_e):\n",
    "        self.l = system.l\n",
    "        self.n = system.n\n",
    "        self.h = system.h\n",
    "        self.u = system.u\n",
    "        self.pos = system.position[0]\n",
    "        self.eps_0 = eps_0\n",
    "        self.omega_e = omega_e\n",
    "        \n",
    "    def laser(self, t):\n",
    "        return self.eps_0 * np.sin(self.omega_e * t)\n",
    "    \n",
    "    def letter(self, t):\n",
    "        return np.where(t < T, #if this\n",
    "                       np.sin(np.pi * t / T)**2 * e0 * np.sin(w * t), #return this\n",
    "                       0) #else return this\n",
    "    \n",
    "    def __call__(self, t, C):\n",
    "        C = C.reshape(self.l, self.l)\n",
    "        P = getP(C, self.n)\n",
    "        F = getF(P, self.h, self.u) - self.pos * self.laser(t)\n",
    "        Cdot = -1j * F @ C\n",
    "\n",
    "        return Cdot.reshape(-1)"
   ]
  },
  {
   "cell_type": "code",
   "execution_count": null,
   "id": "catholic-yield",
   "metadata": {},
   "outputs": [],
   "source": [
    "def tdhf(C, system, f, t1, dt):\n",
    "    # Setup integration parameters\n",
    "    y0 = C.reshape(-1)\n",
    "    t0 = 0\n",
    "    N = int((t1 - t0) / dt) + 3\n",
    "\n",
    "    t = np.zeros(N)\n",
    "    t[0] = t0\n",
    "    y = np.zeros((N, y0.shape[0]), dtype=\"c16\")\n",
    "    y[0] = y0\n",
    "    \n",
    "    # Setting up integrator and performing integration\n",
    "    r = complex_ode(f).set_integrator('vode')\n",
    "    r.set_initial_value(y0, t0)\n",
    "\n",
    "    i = 1\n",
    "    while r.successful() and r.t < t1:\n",
    "        y[i] = r.integrate(r.t + dt)\n",
    "        t[i] = r.t\n",
    "        i += 1\n",
    "\n",
    "    if (i < N): #sometimes N will be too large due to numerical inaccuracy\n",
    "        t = t[:i]\n",
    "        y = y[:i]\n",
    "        \n",
    "    return t, y"
   ]
  },
  {
   "cell_type": "code",
   "execution_count": null,
   "id": "super-macedonia",
   "metadata": {},
   "outputs": [],
   "source": [
    "eps_0 = 1\n",
    "omega_e = 8 * omega\n",
    "\n",
    "t1 = 4 * 2 * np.pi / omega_e\n",
    "dt = 0.001"
   ]
  },
  {
   "cell_type": "code",
   "execution_count": null,
   "id": "jewish-flush",
   "metadata": {},
   "outputs": [],
   "source": [
    "f = RHS(system, eps_0, omega_e)\n",
    "t, y = tdhf(C, system, f, t1, dt)"
   ]
  },
  {
   "cell_type": "code",
   "execution_count": null,
   "id": "bored-malaysia",
   "metadata": {},
   "outputs": [],
   "source": [
    "overlap = np.zeros(y.shape[0])\n",
    "C0 = C[:,0:2]\n",
    "\n",
    "for i in range(y.shape[0]):\n",
    "    Ci = y[i, :].reshape(system.l, system.l)\n",
    "    Cii = np.conj(Ci[:,0:2]).T\n",
    "    overlap[i] = np.abs(np.linalg.det(Cii @ C0))**2 # overlap integral P(t,t0)"
   ]
  },
  {
   "cell_type": "code",
   "execution_count": null,
   "id": "resistant-interview",
   "metadata": {},
   "outputs": [],
   "source": [
    "plt.figure(figsize=(12, 8))\n",
    "\n",
    "unit = 2 * np.pi / omega_e\n",
    "plt.plot(t / unit, overlap)\n",
    "\n",
    "img=mpimg.imread('TD1.PNG')\n",
    "plt.imshow(img, extent=[0, 4, 0, 1], aspect='auto', alpha = 0.5)\n",
    "\n",
    "plt.grid()\n",
    "plt.show()"
   ]
  },
  {
   "cell_type": "markdown",
   "id": "julian-generation",
   "metadata": {},
   "source": [
    "## Experimenting with expectation values and animation"
   ]
  },
  {
   "cell_type": "code",
   "execution_count": null,
   "id": "careful-exposure",
   "metadata": {},
   "outputs": [],
   "source": [
    "eps_0 = 0.05\n",
    "omega_e = omega * 2\n",
    "\n",
    "#t1 = 4 * 2 * np.pi / omega_e\n",
    "t1 = 4 * 2 * np.pi / (omega * 8)\n",
    "t1 *= 4\n",
    "dt = 0.01"
   ]
  },
  {
   "cell_type": "code",
   "execution_count": null,
   "id": "split-ottawa",
   "metadata": {},
   "outputs": [],
   "source": [
    "f = RHS(system, eps_0, omega_e)\n",
    "t, y = tdhf(C, system, f, t1, dt)"
   ]
  },
  {
   "cell_type": "code",
   "execution_count": null,
   "id": "lesbian-curtis",
   "metadata": {},
   "outputs": [],
   "source": [
    "expectation_pos = ex_x(y, system)\n",
    "plt.plot(t, expectation_pos, label = \"<x>\")\n",
    "plt.plot(t, f.laser(t), label = \"Laser\")\n",
    "plt.legend()\n",
    "plt.show()"
   ]
  },
  {
   "cell_type": "code",
   "execution_count": null,
   "id": "usual-draft",
   "metadata": {
    "tags": []
   },
   "outputs": [],
   "source": [
    "times = [i for i in range(0, len(t), len(t)//200)]\n",
    "wf_amp = np.zeros((len(times), system.spf.shape[1]))\n",
    "wf_amp2 = np.zeros((len(times), system.spf.shape[1]))\n",
    "\n",
    "for i, ti in enumerate(times):\n",
    "    gs = y[ti, :].reshape(system.l, system.l)[:, 0]\n",
    "    swf = np.zeros(system.spf.shape[1], dtype = \"c16\")\n",
    "    for j in range(system.l):\n",
    "        swf += gs[j] * system.spf[j]\n",
    "    wf_amp[i] = np.abs(swf)**2 / np.sum(np.abs(swf)**2) * num_grid_points / 10\n",
    "    \n",
    "    gs = y[ti, :].reshape(system.l, system.l)[:, 1]\n",
    "    swf = np.zeros(system.spf.shape[1], dtype = \"c16\")\n",
    "    for j in range(system.l):\n",
    "        swf += gs[j] * system.spf[j]\n",
    "    wf_amp2[i] = np.abs(swf)**2 / np.sum(np.abs(swf)**2) * num_grid_points / 10\n",
    "\n",
    "fig, ax = plt.subplots()\n",
    "fig.set_size_inches(8, 6)\n",
    "plt.plot(system.grid, ODQD.HOPotential(omega)(system.grid), label = \"HO\")\n",
    "line, = ax.plot(system.grid, wf_amp[0], label = r\"$\\psi_0$\")\n",
    "line2, = ax.plot(system.grid, wf_amp2[0], label = r\"$\\psi_1$\")\n",
    "plt.xlim(-6, 6)\n",
    "plt.ylim(0, 0.4)\n",
    "ax.legend()\n",
    "ax.grid()\n",
    "\n",
    "def update(i):\n",
    "    line.set_ydata(wf_amp[i])\n",
    "    line2.set_ydata(wf_amp2[i])\n",
    "\n",
    "plt.close()"
   ]
  },
  {
   "cell_type": "code",
   "execution_count": null,
   "id": "green-decline",
   "metadata": {
    "tags": []
   },
   "outputs": [],
   "source": [
    "ani = animation.FuncAnimation(fig, update, frames = len(times), interval=30)\n",
    "HTML(ani.to_jshtml())"
   ]
  },
  {
   "cell_type": "code",
   "execution_count": null,
   "id": "ideal-mentor",
   "metadata": {},
   "outputs": [],
   "source": []
  }
 ],
 "metadata": {
  "kernelspec": {
   "display_name": "Python 3",
   "language": "python",
   "name": "python3"
  },
  "language_info": {
   "codemirror_mode": {
    "name": "ipython",
    "version": 3
   },
   "file_extension": ".py",
   "mimetype": "text/x-python",
   "name": "python",
   "nbconvert_exporter": "python",
   "pygments_lexer": "ipython3",
   "version": "3.8.5"
  }
 },
 "nbformat": 4,
 "nbformat_minor": 5
}
