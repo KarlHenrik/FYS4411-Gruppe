{
 "cells": [
  {
   "cell_type": "markdown",
   "id": "novel-knight",
   "metadata": {},
   "source": [
    "## Setup of system"
   ]
  },
  {
   "cell_type": "code",
   "execution_count": 14,
   "id": "sitting-creator",
   "metadata": {},
   "outputs": [],
   "source": [
    "import numpy as np\n",
    "np.set_printoptions(precision=2) # 2 decimals when printing arrays\n",
    "np.set_printoptions(suppress=True) # No scientific notation for small numbers\n",
    "import matplotlib.pyplot as plt\n",
    "\n",
    "from quantum_systems import ODQD, GeneralOrbitalSystem # library developed by Øyvind Schøyen and others, https://github.com/Schoyen/quantum-systems"
   ]
  },
  {
   "cell_type": "code",
   "execution_count": 28,
   "id": "composite-handy",
   "metadata": {},
   "outputs": [],
   "source": [
    "l_0 = 10                # number of basis functions\n",
    "grid_length = 10        # compute from x = -10 to x = 10 in 1D\n",
    "num_grid_points = 2001\n",
    "omega = 0.25            # strength of harmonic oscillator potential\n",
    "n = 2                   # number of particles\n",
    "\n",
    "# this sets up the harmonic oscillator basis functions and integrals between them\n",
    "odho = ODQD(l_0, grid_length, num_grid_points, a = 0.25, alpha = 1, potential = ODQD.HOPotential(omega))\n",
    "\n",
    "# this makes a spin up and spin down variant of the odho basis function and sets up the integrals between them\n",
    "system = GeneralOrbitalSystem(n = n, basis_set=odho)\n",
    "l = system.l"
   ]
  },
  {
   "cell_type": "code",
   "execution_count": null,
   "id": "alone-float",
   "metadata": {},
   "outputs": [],
   "source": [
    "print(f\"l = {system.l}\")\n",
    "print(f\"grid shape = {system._basis_set.grid.shape}\")\n",
    "print(f\"h shape = {system.h.shape}\")\n",
    "print(f\"u shape = {system.u.shape}\")\n",
    "print(f\"x shape = {system.position.shape}\")\n",
    "print(f\"spf shape = {system.spf.shape}\")"
   ]
  },
  {
   "cell_type": "code",
   "execution_count": null,
   "id": "guilty-requirement",
   "metadata": {},
   "outputs": [],
   "source": [
    "np.diag(system.h.real)"
   ]
  },
  {
   "cell_type": "code",
   "execution_count": null,
   "id": "virgin-royalty",
   "metadata": {},
   "outputs": [],
   "source": [
    "def getP(C):\n",
    "    l = C.shape[0]\n",
    "    P = np.zeros((l, l), dtype=complex)\n",
    "    \n",
    "    for g in range(l):\n",
    "        for d in range(l):\n",
    "            for i in range(n):\n",
    "                P[d, g] += np.conj(C[g, i]) * C[d, i]\n",
    "    return P"
   ]
  },
  {
   "cell_type": "code",
   "execution_count": null,
   "id": "artificial-puppy",
   "metadata": {},
   "outputs": [],
   "source": [
    "def getF(C):\n",
    "    l = C.shape[0]\n",
    "    F = np.zeros((l, l), dtype=complex)\n",
    "    P = getP(C)\n",
    "    \n",
    "    for b in range(l):\n",
    "        for a in range(l):\n",
    "            F[b, a] += system.h[b, a]\n",
    "            for g in range(l):\n",
    "                for d in range(l):\n",
    "                    F[b, a] += P[d, g] * system.u[b, g, a, d]\n",
    "    return F"
   ]
  },
  {
   "cell_type": "code",
   "execution_count": null,
   "id": "daily-mobile",
   "metadata": {},
   "outputs": [],
   "source": [
    "C = np.eye(l, dtype=complex)"
   ]
  },
  {
   "cell_type": "code",
   "execution_count": null,
   "id": "familiar-production",
   "metadata": {},
   "outputs": [],
   "source": [
    "for i in range(20):\n",
    "    F = getF(C)\n",
    "    vals, C = np.linalg.eigh(F)"
   ]
  },
  {
   "cell_type": "code",
   "execution_count": null,
   "id": "important-ukraine",
   "metadata": {},
   "outputs": [],
   "source": [
    "gs = C[:, 0].real\n",
    "print(gs)"
   ]
  },
  {
   "cell_type": "code",
   "execution_count": null,
   "id": "relative-discrimination",
   "metadata": {},
   "outputs": [],
   "source": [
    "gs_vals = np.zeros(num_grid_points, dtype = complex)\n",
    "for i in range(l):\n",
    "    gs_vals += gs[i] * system.spf[i]\n",
    "    \n",
    "plt.plot(system.grid, np.abs(gs_vals)**2 * 2001, label=r\"$\\psi_{GS}$\",)\n",
    "plt.xlim(-6, 6)\n",
    "\n",
    "plt.grid()\n",
    "plt.legend()\n",
    "plt.show()"
   ]
  },
  {
   "cell_type": "code",
   "execution_count": null,
   "id": "focused-visiting",
   "metadata": {},
   "outputs": [],
   "source": [
    "system.change_basis(C)\n",
    "print(system.compute_reference_energy())\n",
    "odho = ODQD(l_0, grid_length, num_grid_points, a = 0.25, alpha = 1, potential = ODQD.HOPotential(omega))\n",
    "system = GeneralOrbitalSystem(n = n, basis_set=odho)"
   ]
  },
  {
   "cell_type": "code",
   "execution_count": null,
   "id": "invisible-lesson",
   "metadata": {},
   "outputs": [],
   "source": []
  }
 ],
 "metadata": {
  "kernelspec": {
   "display_name": "Python 3",
   "language": "python",
   "name": "python3"
  },
  "language_info": {
   "codemirror_mode": {
    "name": "ipython",
    "version": 3
   },
   "file_extension": ".py",
   "mimetype": "text/x-python",
   "name": "python",
   "nbconvert_exporter": "python",
   "pygments_lexer": "ipython3",
   "version": "3.8.5"
  }
 },
 "nbformat": 4,
 "nbformat_minor": 5
}
