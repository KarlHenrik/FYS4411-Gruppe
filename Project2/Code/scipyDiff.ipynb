{
 "cells": [
  {
   "cell_type": "markdown",
   "metadata": {},
   "source": [
    "## Testing scipy differential equation solver"
   ]
  },
  {
   "cell_type": "code",
   "execution_count": 8,
   "metadata": {},
   "outputs": [],
   "source": [
    "import numpy as np\n",
    "import matplotlib.pyplot as plt\n",
    "from scipy.integrate import complex_ode"
   ]
  },
  {
   "cell_type": "code",
   "execution_count": 9,
   "metadata": {},
   "outputs": [],
   "source": [
    "y0 = [2, 2]\n",
    "\n",
    "t0 = 0\n",
    "t1 = 10\n",
    "dt = 0.001\n",
    "\n",
    "def f(t, y):\n",
    "    return [np.sin(t), -y[1]]"
   ]
  },
  {
   "cell_type": "code",
   "execution_count": 10,
   "metadata": {},
   "outputs": [],
   "source": [
    "n = int((t1 - t0) / dt) + 2\n",
    "\n",
    "t = np.zeros(n)\n",
    "t[0] = t0\n",
    "y = np.zeros((n, 2), dtype=complex)\n",
    "y[0] = y0"
   ]
  },
  {
   "cell_type": "code",
   "execution_count": 11,
   "metadata": {},
   "outputs": [],
   "source": [
    "r = complex_ode(f).set_integrator('vode')\n",
    "r.set_initial_value(y0, t0)\n",
    "\n",
    "i = 1\n",
    "while r.successful() and r.t < t1:\n",
    "    t[i] = r.t + dt\n",
    "    y[i] = r.integrate(r.t + dt)\n",
    "    i += 1\n",
    "    \n",
    "t = t[:i]\n",
    "y = y[:i]"
   ]
  },
  {
   "cell_type": "code",
   "execution_count": 13,
   "metadata": {},
   "outputs": [
    {
     "data": {
      "image/png": "[encoded data removed]",
      "text/plain": [
       "<Figure size 432x288 with 1 Axes>"
      ]
     },
     "metadata": {
      "needs_background": "light"
     },
     "output_type": "display_data"
    }
   ],
   "source": [
    "plt.plot(t, y[:, 0].real)\n",
    "plt.show()"
   ]
  },
  {
   "cell_type": "code",
   "execution_count": null,
   "metadata": {},
   "outputs": [],
   "source": []
  },
  {
   "cell_type": "code",
   "execution_count": 99,
   "metadata": {},
   "outputs": [],
   "source": [
    "l = 6\n",
    "#C = np.zeros((l, l), dtype=\"c16\")\n",
    "C = np.zeros((l, l))\n",
    "for i in range(0, l, 2):\n",
    "    vals = (np.random.rand(l // 2) - 0.5)*2\n",
    "    up = np.zeros(l)\n",
    "    down = np.zeros(l)\n",
    "    for j in range(l // 2):\n",
    "        up[2 * j] = vals[j]\n",
    "        down[2 * j + 1] = vals[j]\n",
    "    C[:, i] = up / np.linalg.norm(up)\n",
    "    C[:, i + 1] = down / np.linalg.norm(down)"
   ]
  },
  {
   "cell_type": "code",
   "execution_count": 100,
   "metadata": {},
   "outputs": [
    {
     "data": {
      "text/plain": [
       "array([[-0.18,  0.  ,  0.38,  0.  , -0.53,  0.  ],\n",
       "       [ 0.  , -0.18,  0.  ,  0.38,  0.  , -0.53],\n",
       "       [ 0.74,  0.  , -0.64,  0.  , -0.61,  0.  ],\n",
       "       [ 0.  ,  0.74,  0.  , -0.64,  0.  , -0.61],\n",
       "       [-0.65,  0.  , -0.66,  0.  ,  0.59,  0.  ],\n",
       "       [ 0.  , -0.65,  0.  , -0.66,  0.  ,  0.59]])"
      ]
     },
     "execution_count": 100,
     "metadata": {},
     "output_type": "execute_result"
    }
   ],
   "source": [
    "C"
   ]
  },
  {
   "cell_type": "code",
   "execution_count": 91,
   "metadata": {},
   "outputs": [],
   "source": [
    "C = C + np.eye(l) * 2\n",
    "for i in range(l):\n",
    "    C[:, i] = C[:, i] / np.linalg.norm(C[:, i])"
   ]
  },
  {
   "cell_type": "code",
   "execution_count": 98,
   "metadata": {},
   "outputs": [
    {
     "data": {
      "text/plain": [
       "(0.732764954338888+0j)"
      ]
     },
     "execution_count": 98,
     "metadata": {},
     "output_type": "execute_result"
    }
   ],
   "source": [
    "np.sum(C[6,:]**2)"
   ]
  },
  {
   "cell_type": "markdown",
   "metadata": {},
   "source": [
    "f(t) = sin^2(pi t / T) * e0 * sin(w t)"
   ]
  }
 ],
 "metadata": {
  "kernelspec": {
   "display_name": "Python 3",
   "language": "python",
   "name": "python3"
  },
  "language_info": {
   "codemirror_mode": {
    "name": "ipython",
    "version": 3
   },
   "file_extension": ".py",
   "mimetype": "text/x-python",
   "name": "python",
   "nbconvert_exporter": "python",
   "pygments_lexer": "ipython3",
   "version": "3.8.5"
  }
 },
 "nbformat": 4,
 "nbformat_minor": 5
}
